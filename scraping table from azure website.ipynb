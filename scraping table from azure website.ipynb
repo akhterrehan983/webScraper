{
 "cells": [
  {
   "cell_type": "code",
   "execution_count": 2,
   "metadata": {},
   "outputs": [],
   "source": [
    "# Import libraries\n",
    "import requests\n",
    "from bs4 import BeautifulSoup"
   ]
  },
  {
   "cell_type": "code",
   "execution_count": 8,
   "metadata": {},
   "outputs": [],
   "source": [
    "# Create an URL object\n",
    "url = 'https://docs.microsoft.com/en-us/azure/governance/policy/samples/nist-sp-800-53-r5'\n",
    "# Create object page\n",
    "page = requests.get(url)\n",
    "print(page.text)"
   ]
  },
  {
   "cell_type": "code",
   "execution_count": 9,
   "metadata": {},
   "outputs": [],
   "source": [
    "# parser-lxml = Change html to Python friendly format\n",
    "# Obtain page's information\n",
    "soup = BeautifulSoup(page.text, 'html.parser')\n",
    "soup"
   ]
  },
  {
   "cell_type": "code",
   "execution_count": 10,
   "metadata": {},
   "outputs": [],
   "source": [
    "# Obtain information from tag <table> levave h30\n",
    "h2h3=soup.findAll(['h2','h3'])\n",
    "h2h3.pop(0)\n",
    "h2h3.pop(0)\n",
    "# print(h2h3)\n",
    "table1 = soup.findAll(['h2'])\n",
    "# table1.pop(0)\n",
    "# table1.pop(0)\n",
    "table1.pop()\n",
    "table1.pop()\n",
    "\n",
    "# print(len(soup.findAll(['h3'])))\n",
    "indOfControl = [\"Access Control\",\"Audit and Accountability\",\"Configuration Management\",\"Contingency Planning\",\n",
    "\"Identification and Authentication\",\"Incident Response\",\"Risk Assessment\",\"System and Communications Protection\",\n",
    "\"System and Information Integrity\",\"Next steps\"]\n",
    "\n",
    "resultTable = soup.findAll('table')\n",
    "print(len(resultTable))\n",
    "# print(len(table1))\n",
    "j = 0\n",
    "z = []\n",
    "for i in table1:\n",
    "    print(i.get_text())\n",
    "    if i.get_text() in indOfControl:\n",
    "        z.append(j)\n",
    "    else:\n",
    "        j+=1\n",
    "print(z)        \n",
    "\n",
    "    \n",
    "\n",
    "    "
   ]
  },
  {
   "cell_type": "code",
   "execution_count": 11,
   "metadata": {},
   "outputs": [],
   "source": [
    "import json\n",
    "controlName = ['Account Management', 'Automated System Account Management', 'Privileged User Accounts', 'Account Monitoring for Atypical Usage', 'Access Enforcement', 'Role-based Access Control', 'Information Flow Enforcement', 'Dynamic Information Flow Control', 'Separation of Duties', 'Least Privilege', 'Review of User Privileges', 'Security and Privacy Attributes', 'Remote Access', 'Monitoring and Control', 'Audit Record Review, Analysis, and Reporting', 'Central Review and Analysis', 'Integrated Analysis of Audit Records', 'Audit Record Retention', 'Audit Record Generation', 'System-wide and Time-correlated Audit Trail', 'Configuration Settings', 'Least Functionality', 'Prevent Program Execution', 'Authorized Software ??? Allow-by-exception', 'Software Usage Restrictions', 'User-installed Software', 'Alternate Storage Site', 'Separation from Primary Site', 'Alternate Processing Site', 'System Backup', 'Identification and Authentication (organizational Users)', 'Multi-factor Authentication to Privileged Accounts', 'Multi-factor Authentication to Non-privileged Accounts', 'Identifier Management', 'Authenticator Management', 'Password-based Authentication', 'Password-based Authentication', 'Incident Monitoring', 'Vulnerabilities Related to Incidents', 'Vulnerability Monitoring and Scanning', 'Security Function Isolation', 'Denial-of-service Protection', 'Boundary Protection', 'Access Points', 'Transmission Confidentiality and Integrity', 'Cryptographic Protection', 'Cryptographic Key Establishment and Management', 'Protection of Information at Rest', 'Cryptographic Protection', 'Flaw Remediation', 'Removal of Previous Versions of Software and Firmware', 'Malicious Code Protection', 'System Monitoring', 'Automated Organization-generated Alerts', 'Memory Protection']\n",
    "ind = [0, 14, 20, 26, 30, 37, 39, 40, 49, 55]\n",
    "count = 0\n",
    "newFileData = {\"System_and_Information_Integrity\":[]} #change3\n",
    "f = 9#change1\n",
    "s,t = 0,0 \n",
    "idd = \"\"\n",
    "# print(resultTable[0])\n",
    "for x in range(49,55,1): #change2\n",
    "    s+=1\n",
    "    t=0\n",
    "    temp = resultTable[x].findAll([\"td\"])\n",
    "    counter=1\n",
    "    print(len(temp)//4)\n",
    "    for i in temp:\n",
    "        if counter%4 == 0:\n",
    "            print(\"path: \",i.find(\"a\")[\"href\"])\n",
    "            tempDict[\"path\"] = i.find(\"a\")[\"href\"]\n",
    "            \n",
    "            filePath = i.find(\"a\")[\"href\"]\n",
    "            filePath = (filePath.removeprefix(\"https://github.com/Azure/azure-policy/blob/master/\")).replace(\"%20\",\" \")\n",
    "            with open(\"C:/Users/HP/Documents/controls/azure-policy-master/\"+filePath,\"r\") as fobj:\n",
    "                fileJson = json.load(fobj)\n",
    "                print(\"policy_id:\",fileJson['id'])\n",
    "                tempDict[\"policy_id\"] = fileJson['id']\n",
    "                \n",
    "            print(\"issues: \",[])\n",
    "            tempDict[\"issues\"] = []\n",
    "#             print(tempDict)\n",
    "            newFileData[\"System_and_Information_Integrity\"].append(tempDict) #change5\n",
    "            print()\n",
    "        elif counter%4==1:\n",
    "            t+=1\n",
    "            tempDict = {}\n",
    "            tempDict = {\"control\":controlName[x],\"id\":str(f)+\".\"+str(s)+\".\"+str(t),\"name\":i.get_text()}\n",
    "            print(\"control: \",controlName[x])\n",
    "            print(\"id: \",str(f)+\".\"+str(s)+\".\"+str(t))\n",
    "            print(\"name: \",i.get_text())\n",
    "        elif counter%4==2:\n",
    "            tempDict[\"desc\"] = i.get_text()\n",
    "            print(\"desc: \",i.get_text())\n",
    "        \n",
    "        counter+=1\n",
    "with open(\"C:/Users/HP/Documents/controls/\"+\"System_and_Information_Integrity.json\",\"w+\") as fobj: #change4\n",
    "    json.dump(newFileData,fobj,indent=4)\n",
    "print(newFileData)\n",
    "#     break\n",
    "# print(count)"
   ]
  },
  {
   "cell_type": "code",
   "execution_count": 12,
   "metadata": {},
   "outputs": [],
   "source": [
    "row = []\n",
    "crimefile = open(r\"C:/Users/HP/Documents/controls/test.txt\", 'r')\n",
    "for line in crimefile.readlines():\n",
    "    row.append(line.removesuffix(\"\\n\"))\n",
    "# print(len(row))\n",
    "print(row)"
   ]
  }
 ],
 "metadata": {
  "kernelspec": {
   "display_name": "Python 3 (ipykernel)",
   "language": "python",
   "name": "python3"
  },
  "language_info": {
   "codemirror_mode": {
    "name": "ipython",
    "version": 3
   },
   "file_extension": ".py",
   "mimetype": "text/x-python",
   "name": "python",
   "nbconvert_exporter": "python",
   "pygments_lexer": "ipython3",
   "version": "3.9.7"
  }
 },
 "nbformat": 4,
 "nbformat_minor": 2
}
